{
 "cells": [
  {
   "cell_type": "code",
   "execution_count": null,
   "id": "a53393ca-10a9-4f4b-a646-7980154e2ee3",
   "metadata": {},
   "outputs": [],
   "source": [
    "import cv2\n",
    "import numpy as np\n",
    "import matplotlib.pyplot as plt\n",
    "import random\n",
    "import gradio as gr\n",
    "from tensorflow.keras.models import Sequential\n",
    "from tensorflow.keras.layers import Conv2D, MaxPooling2D, Dense, Flatten\n",
    "\n",
    "X_train = np.loadtxt('input.csv', delimiter=',')\n",
    "Y_train= np.loadtxt('labels.csv', delimiter=',')\n",
    "\n",
    "X_test=np.loadtxt('input_test.csv', delimiter=',')\n",
    "Y_test=np.loadtxt('labels_test.csv', delimiter=',')\n",
    "\n",
    "X_train = X_train.reshape(len(X_train), 100,100,3)\n",
    "Y_train =Y_train.reshape(len(Y_train),1)\n",
    "\n",
    "X_test = X_test.reshape(len(X_test), 100,100,3)\n",
    "Y_test= Y_test.reshape(len(Y_test),1)\n",
    "\n",
    "X_train=X_train/255.0\n",
    "X_test=X_test/255.0\n",
    "\n",
    "print(\"Shape of X_train:\", X_train.shape)\n",
    "\n",
    "idx= random.randint(0, len(X_train))\n",
    "plt.imshow(X_train[idx, :])\n",
    "plt.show()\n",
    "\n",
    "model = Sequential()\n",
    "model.add(Conv2D(32,(3,3), activation='relu',input_shape= (100,100,3)))\n",
    "model.add(MaxPooling2D((2,2)))\n",
    "\n",
    "model.add(Conv2D(32,(3,3), activation='relu'))\n",
    "model.add(MaxPooling2D((2,2)))\n",
    "\n",
    "model.add(Flatten())\n",
    "model.add(Dense(64, activation='relu'))\n",
    "model.add(Dense (1, activation='sigmoid'))\n",
    "\n",
    "model.compile(loss='binary_crossentropy', optimizer='adam' , metrics=['accuracy'])\n",
    "model.fit(X_train, Y_train, epochs=5, batch_size=64)\n",
    "\n",
    "model.evaluate(X_test, Y_test)\n",
    "\n",
    "\n"
   ]
  },
  {
   "cell_type": "markdown",
   "id": "78c11df3-8f59-40be-bac7-c197059b6094",
   "metadata": {},
   "source": [
    "Model predictions"
   ]
  },
  {
   "cell_type": "code",
   "execution_count": null,
   "id": "db861995-8ccd-45fa-b793-983a732e3146",
   "metadata": {},
   "outputs": [],
   "source": [
    "idx2 = random.randint(0, len(Y_test))\n",
    "plt.imshow(X_test[idx2, :])\n",
    "plt.show()\n",
    "\n",
    "y_pred= model.predict(X_test[idx2, :].reshape(1,100,100,3))\n",
    "print(y_pred)\n",
    "y_pred=y_pred>0.5514\n",
    "\n",
    "if(y_pred== 0):\n",
    "    pred='dog'\n",
    "else:\n",
    "    pred='cat'\n",
    "\n",
    "print(\"Our model says it is a:\", pred) \n"
   ]
  }
 ],
 "metadata": {
  "kernelspec": {
   "display_name": "Python 3 (ipykernel)",
   "language": "python",
   "name": "python3"
  },
  "language_info": {
   "codemirror_mode": {
    "name": "ipython",
    "version": 3
   },
   "file_extension": ".py",
   "mimetype": "text/x-python",
   "name": "python",
   "nbconvert_exporter": "python",
   "pygments_lexer": "ipython3",
   "version": "3.11.3"
  }
 },
 "nbformat": 4,
 "nbformat_minor": 5
}
